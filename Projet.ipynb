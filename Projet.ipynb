{
 "cells": [
  {
   "cell_type": "markdown",
   "metadata": {
    "deletable": false,
    "editable": false
   },
   "source": [
    "<br>\n",
    "<div align=\"right\">Enseignant : Aric Wizenberg</div>\n",
    "<div align=\"right\">E-mail : aric.wizenberg@u-pec.fr</div>\n",
    "<div align=\"right\">Année : 2021/2022</div><br><br><br>\n",
    "<div align=\"center\"><span style=\"font-family:Lucida Caligraphy;font-size:32px;color:darkgreen\">Master 1 Économie Appliquée - Cours de Python</span></div><br><br>\n",
    "<div align=\"center\"><span style=\"font-family:Lucida Caligraphy;font-size:24px;color:#e60000\">Projet</span></div><br><br>\n",
    "<hr>"
   ]
  },
  {
   "cell_type": "markdown",
   "metadata": {
    "deletable": false,
    "editable": false
   },
   "source": [
    "---"
   ]
  },
  {
   "cell_type": "markdown",
   "metadata": {
    "deletable": false,
    "editable": false,
    "nbgrader": {
     "cell_type": "markdown",
     "checksum": "670fc1fe2f8770128d7b38bea86adf6e",
     "grade": false,
     "grade_id": "cell-8e32726981c628e2",
     "locked": true,
     "schema_version": 3,
     "solution": false,
     "task": false
    }
   },
   "source": [
    "# Instructions\n",
    "\n",
    "Contrairement au devoir, il s'agit ici de coder un \"logiciel\", pas de faire de l'analyse de données. Ce qui signifie que lors de l'évaluation, d'une part qu'il suffira à l'utilisateur de cliquer sur **Run / Restart Kernel and run all cells** pour faire fonctionner ce \"logiciel\" (à l'inverse d'un Notebook où il faudrait exécuter une à une chaque cellule) et d'autre part qu'il ne devra pas dépendre d'un dataset spécifique (ce qui est le cas quand on fait de l'analyse de données).\n",
    "\n",
    "En revanche il sera possible (et même recommandé) de permettre à l'utilisateur d'interagir avec le logiciel, à travers le paramétrage de fichiers d'entrée, à travers le paramétrage d'une cellule bien identifiée en début de notebook contenant des variables d'entrée, au travers de questions input(), ou tout autre mode d'interaction...\n",
    "\n",
    "Autres instructions :\n",
    "- Ce travail peut être réalisé seul ou à deux.\n",
    "- Tous les éléments nécessaires au fonctionnement du logiciel devront être dans des sous-dossiers de votre dossier de projet, et les éventuels dossiers de résultats devront êtres aussi présents dans votre dossier de projet (en particulier je ne veux pas voir de chemins absolus vers des fichiers de votre disque dur par exemple)\n",
    "- Vous n'avez le droit d'utiliser que les modules installés avec Anaconda, par contre vous pouvez ajouter des modules faits maison (par vous-mêmes) dans votre dossier de projet.\n",
    "- Votre projet, en termes de code, devra inclure :\n",
    "    - plusieurs variables de type ensemble (list, dict, set, tuple, mais pas obligatoirement les 4...)\n",
    "    - plusieurs blocs conditionnels\n",
    "    - plusieurs boucles (for ou while)\n",
    "    - plusieurs fonctions\n",
    "    - des traitements de fichiers externes et, éventuellement, de gestion d'erreurs ou des modules personnalisés\n",
    "    - (Notez bien que dans la réalité, tout projet en Python contient systématiquement tous ces éléments...)\n",
    "- Le code et le projet en général devra être bien présenté et compréhensible à la lecture (commentaires dans le code ou cellules d'explications en Markdown)\n",
    "- En ordre de grandeur, votre code devrait au final faire plusieurs dizaines de lignes de codes. Mais la taille ne sera pas un critère d'évaluation, c'est même souvent l'inverse : il vaut mieux 1 ligne bien codée et efficace que 10 lignes inutilement répétitives...\n",
    "\n",
    "Pour le sujet, vous êtes très libres, voici quelques idées pour vous aider :\n",
    "- Jeu simple (jeu de carte, sudoku...)\n",
    "- Logiciel de traitement divers ou d'organisation de fichiers\n",
    "- Logiciel de simulation scientifique\n",
    "- Logiciel de dessin automatisé\n",
    "- Logiciel de traitement de bases de données (mais pas une analyse de données spécifique à un dataset !)\n",
    "\n",
    "Mais comme je vous l'ai dit tout au long du cours, les possibilités de création d'outils automatisé sont infinies...\n",
    "\n",
    "N'hésitez pas à me soumettre vos idées par mail, je vous dirai ce que je pense de leur faisabilité et de leur qualité.\n",
    "\n",
    "Ne faites pas attention aux cellules contenant \"Ecrivez votre réponse ci-dessous\" ci-dessous, elles sont générées automatiquement par mon logiciel, vous n'avez pas à modifier ces cellules...\n",
    "\n",
    "**Attention :** Assurez-vous avant de me rendre ce Notebook que tout fonctionne bien. Utilisez pour cela la fonction **Run / Restart Kernel and run all cells** du menu de JupyterLab pour vérifier que tout fonctionne.\n",
    "\n",
    "Merci d'indiquer votre (ou vos) mail(s) sous forme de chaine(s) de caractères dans la cellule ci-dessous :"
   ]
  },
  {
   "cell_type": "code",
   "execution_count": null,
   "metadata": {},
   "outputs": [],
   "source": [
    "nos_emails = ['ghiles.idris@etu.u-pec.fr'] # 1 ou 2 emails à mettre selon que c'est un travail effectué seul ou à deux"
   ]
  },
  {
   "cell_type": "markdown",
   "metadata": {
    "deletable": false,
    "editable": false,
    "nbgrader": {
     "cell_type": "markdown",
     "checksum": "69e6eb544485cef4792aa47fb7aa4f9d",
     "grade": false,
     "grade_id": "cell-885c625ff3f09eab",
     "locked": true,
     "schema_version": 3,
     "solution": false,
     "task": false
    }
   },
   "source": [
    "# Evaluation"
   ]
  },
  {
   "cell_type": "markdown",
   "metadata": {
    "deletable": false,
    "editable": false,
    "nbgrader": {
     "cell_type": "markdown",
     "checksum": "eadfd624a929eeb5af9fde0b3bbb7c85",
     "grade": false,
     "grade_id": "cell-99f16ccb11a3ca6c",
     "locked": true,
     "schema_version": 3,
     "solution": false,
     "task": false
    }
   },
   "source": [
    "## Maitrise des ensembles (3 points)"
   ]
  },
  {
   "cell_type": "markdown",
   "metadata": {
    "deletable": false,
    "nbgrader": {
     "cell_type": "markdown",
     "checksum": "c6bcf33f4100fd1a7f4ec1622a3f54f5",
     "grade": true,
     "grade_id": "cell-1ac817430b833f23",
     "locked": false,
     "points": 3,
     "schema_version": 3,
     "solution": true,
     "task": false
    }
   },
   "source": [
    "Ecrivez votre réponse ci-dessous"
   ]
  },
  {
   "cell_type": "markdown",
   "metadata": {
    "deletable": false,
    "editable": false,
    "nbgrader": {
     "cell_type": "markdown",
     "checksum": "16afe363d608216009efd7b891c92d78",
     "grade": false,
     "grade_id": "cell-8e5c5c5923329eae",
     "locked": true,
     "schema_version": 3,
     "solution": false,
     "task": false
    }
   },
   "source": [
    "## Maitrise des blocs conditionnels (3 points)"
   ]
  },
  {
   "cell_type": "markdown",
   "metadata": {
    "deletable": false,
    "nbgrader": {
     "cell_type": "markdown",
     "checksum": "17488efe8e7ca139cd854b6861a74bbf",
     "grade": true,
     "grade_id": "cell-2e802799522f5b75",
     "locked": false,
     "points": 3,
     "schema_version": 3,
     "solution": true,
     "task": false
    }
   },
   "source": [
    "Ecrivez votre réponse ci-dessous"
   ]
  },
  {
   "cell_type": "markdown",
   "metadata": {
    "deletable": false,
    "editable": false,
    "nbgrader": {
     "cell_type": "markdown",
     "checksum": "890fc3810874064614982b6ffc52a4ff",
     "grade": false,
     "grade_id": "cell-217e6193ef646443",
     "locked": true,
     "schema_version": 3,
     "solution": false,
     "task": false
    }
   },
   "source": [
    "## Maitrise des boucles (3 points)"
   ]
  },
  {
   "cell_type": "markdown",
   "metadata": {
    "deletable": false,
    "nbgrader": {
     "cell_type": "markdown",
     "checksum": "ee4e696bb6cdfa1041583e2627fa7ecf",
     "grade": true,
     "grade_id": "cell-12b03e8f4b88fe33",
     "locked": false,
     "points": 3,
     "schema_version": 3,
     "solution": true,
     "task": false
    }
   },
   "source": [
    "Ecrivez votre réponse ci-dessous"
   ]
  },
  {
   "cell_type": "markdown",
   "metadata": {
    "deletable": false,
    "editable": false,
    "nbgrader": {
     "cell_type": "markdown",
     "checksum": "730b2ad1198432106a186664532b91e5",
     "grade": false,
     "grade_id": "cell-1ead3eb39c72c3a4",
     "locked": true,
     "schema_version": 3,
     "solution": false,
     "task": false
    }
   },
   "source": [
    "## Maitrise des fonctions (3 points)"
   ]
  },
  {
   "cell_type": "markdown",
   "metadata": {
    "deletable": false,
    "nbgrader": {
     "cell_type": "markdown",
     "checksum": "5bee02fbbec2aac3a3f2cad13746eded",
     "grade": true,
     "grade_id": "cell-d6b5a48709c75277",
     "locked": false,
     "points": 3,
     "schema_version": 3,
     "solution": true,
     "task": false
    }
   },
   "source": [
    "Ecrivez votre réponse ci-dessous"
   ]
  },
  {
   "cell_type": "markdown",
   "metadata": {
    "deletable": false,
    "editable": false,
    "nbgrader": {
     "cell_type": "markdown",
     "checksum": "168f9914d1b61a3884f579f88cd37aa2",
     "grade": false,
     "grade_id": "cell-ef8961a5147ad990",
     "locked": true,
     "schema_version": 3,
     "solution": false,
     "task": false
    }
   },
   "source": [
    "## Maitrise de la gestion de fichiers, de modules et d'erreurs  (3 points)"
   ]
  },
  {
   "cell_type": "markdown",
   "metadata": {
    "deletable": false,
    "nbgrader": {
     "cell_type": "markdown",
     "checksum": "0bad1360dd1349c3da9ddc13a4e687b9",
     "grade": true,
     "grade_id": "cell-dfb2e7442b6a4e0c",
     "locked": false,
     "points": 3,
     "schema_version": 3,
     "solution": true,
     "task": false
    }
   },
   "source": [
    "Ecrivez votre réponse ci-dessous"
   ]
  },
  {
   "cell_type": "markdown",
   "metadata": {
    "deletable": false,
    "editable": false,
    "nbgrader": {
     "cell_type": "markdown",
     "checksum": "adbbd38d93fb7aa1679fea0bd7b85eae",
     "grade": false,
     "grade_id": "cell-e21d134859c8b884",
     "locked": true,
     "schema_version": 3,
     "solution": false,
     "task": false
    }
   },
   "source": [
    "## Clarté du code (2 points)"
   ]
  },
  {
   "cell_type": "markdown",
   "metadata": {
    "deletable": false,
    "nbgrader": {
     "cell_type": "markdown",
     "checksum": "f119684c00631147bbd0b2b276909c1b",
     "grade": true,
     "grade_id": "cell-d0eb81c42426cb34",
     "locked": false,
     "points": 2,
     "schema_version": 3,
     "solution": true,
     "task": false
    }
   },
   "source": [
    "Ecrivez votre réponse ci-dessous"
   ]
  },
  {
   "cell_type": "markdown",
   "metadata": {
    "deletable": false,
    "editable": false,
    "nbgrader": {
     "cell_type": "markdown",
     "checksum": "7eba81c9b286e65934e5b706064aeb75",
     "grade": false,
     "grade_id": "cell-e4acfe1655c0b540",
     "locked": true,
     "schema_version": 3,
     "solution": false,
     "task": false
    }
   },
   "source": [
    "## Qualité générale du travail (3 points)"
   ]
  },
  {
   "cell_type": "markdown",
   "metadata": {
    "deletable": false,
    "nbgrader": {
     "cell_type": "markdown",
     "checksum": "ef101379b607a7fae300b7c9e2971907",
     "grade": true,
     "grade_id": "cell-494ef06f17272a70",
     "locked": false,
     "points": 3,
     "schema_version": 3,
     "solution": true,
     "task": false
    }
   },
   "source": [
    "Ecrivez votre réponse ci-dessous"
   ]
  },
  {
   "cell_type": "markdown",
   "metadata": {
    "deletable": false,
    "editable": false,
    "nbgrader": {
     "cell_type": "markdown",
     "checksum": "f0944cddb3ef2c5a44bd96290b9a9174",
     "grade": false,
     "grade_id": "cell-c5f04f2510c2fe5c",
     "locked": true,
     "schema_version": 3,
     "solution": false,
     "task": false
    }
   },
   "source": [
    "# Présentation rapide"
   ]
  },
  {
   "cell_type": "markdown",
   "metadata": {},
   "source": [
    "Décrivez brièvement votre projet ci-dessous :\n",
    "\n",
    "Le Morpion se joue sur une grille carrée de 3x3 cases. Deux joueurs X et O s'affrontent. Ils doivent remplir chacun à leur tour une case de la grille avec le symbole qui leur est attribué : X ou O.\n",
    "\n",
    "Pour désigner le joueur qui débutera la partie, un paquet de 52 cartes est mélangé et distribué aléatoirement entre les deux joueurs. Le joueur qui a en sa possession la plus grande carte (AS de pique) débutera la partie.\n",
    "\n",
    "Le gagnant est celui qui arrive à aligner trois symboles identiques, horizontalement, verticalement ou en diagonale.\n"
   ]
  },
  {
   "cell_type": "markdown",
   "metadata": {
    "deletable": false,
    "editable": false,
    "nbgrader": {
     "cell_type": "markdown",
     "checksum": "e05a295b7d5801cc329ba6c5d08e6416",
     "grade": false,
     "grade_id": "cell-dba624c9b6a51052",
     "locked": true,
     "schema_version": 3,
     "solution": false,
     "task": false
    },
    "tags": []
   },
   "source": [
    "# Code"
   ]
  },
  {
   "cell_type": "markdown",
   "metadata": {},
   "source": [
    "***\n",
    "---"
   ]
  },
  {
   "cell_type": "markdown",
   "metadata": {
    "tags": []
   },
   "source": [
    "## Packages  \n",
    "\n",
    "- **pathlib** qui permet de manipuler les chemins des systèmes de fichiers\n",
    "- **random**  qui implémente des générateurs de nombres pseudo-aléatoires pour différentes distributions"
   ]
  },
  {
   "cell_type": "code",
   "execution_count": null,
   "metadata": {},
   "outputs": [],
   "source": [
    "from pathlib import Path     \n",
    "import random          "
   ]
  },
  {
   "cell_type": "markdown",
   "metadata": {},
   "source": [
    "## Construction de l'algorithme "
   ]
  },
  {
   "cell_type": "markdown",
   "metadata": {
    "tags": []
   },
   "source": [
    "### Définition de la table de jeu et affichage de la table  "
   ]
  },
  {
   "cell_type": "code",
   "execution_count": null,
   "metadata": {},
   "outputs": [],
   "source": [
    "# création de la table de jeu (vide initialement) qui contient 9 cases\n",
    "table = [\" \"]*9      \n",
    "\n",
    "def affichage_table_initiale():\n",
    "    \"\"\"\n",
    "    affiche la table (vierge) initale du jeu, à chaque début de partie \n",
    "    \"\"\"\n",
    "    # contient le numéro de chaque case de la table et permet aux joueurs de se repérer \n",
    "    # par défaut print fait un retour à la ligne, en ajoutant  end=\"\", print continue sur la meme ligne \n",
    "    for i in range(0,9):\n",
    "            if  i == 2 or i == 5 or i == 8 :  print(i + 1)\n",
    "            else :  \n",
    "                print(str(i + 1) + \" | \", end = \"\")\n",
    "\n",
    "def affichage_table(): \n",
    "    \"\"\"\n",
    "    affichage de la table en cours du jeu avec les cases cochées \n",
    "    \"\"\"\n",
    "    for i in range(0,9):\n",
    "            if  i == 2 or i == 5 or i == 8  : print(table[i]) \n",
    "            else : \n",
    "                print(table[i] + \" | \", end = \"\")"
   ]
  },
  {
   "cell_type": "markdown",
   "metadata": {},
   "source": [
    "### Définition du tour de jeu  \n",
    "Pour savoir quel joueur débutera la partie (joueur X ou joueur O), on distribue aléatoirement un paquet de 52 cartes entre les deux joueurs. Le joueur ayant eu la plus grande carte qu'on choisira ici comme étant l'AS de pique débutera la partie.\n"
   ]
  },
  {
   "cell_type": "code",
   "execution_count": null,
   "metadata": {},
   "outputs": [],
   "source": [
    "def tour_de_jouer () : \n",
    "    \"\"\" \n",
    "    permet de (re)distuber les cartes, d'afficher la table initiale au début de chaque partie et d'informer le joueur qui débutera \n",
    "    \n",
    "    returns :\n",
    "    X et O -- identifiant joueur qui débutera la partie si detention de l'AS de pique \n",
    "    \"\"\" \n",
    "    #Génération du paquet de cartes\n",
    "    paquet = []\n",
    "    num_de_cartes = ['2', '3', '4', '5', '6', '7', '8', '9', '10', 'as', 'roi', 'dame' , 'valet']\n",
    "    signes_de_cartes = { 'pique'  :'\\u2660',\n",
    "                         'coeur'  :'\\u2661',\n",
    "                         'carreau':'\\u2662',\n",
    "                         'trefle' :'\\u2663' }\n",
    "    \n",
    "    # fusion signes + numéros de cartes \n",
    "    for v in signes_de_cartes.values() :    \n",
    "        for i in num_de_cartes :\n",
    "                paquet.append(i + v)\n",
    "                \n",
    "    # mélanger aléatoirement le paquet \n",
    "    random.shuffle(paquet)\n",
    "    \n",
    "    # distribuer les cartes entre les deux joueur\n",
    "    paquet_joueur_x = []\n",
    "    paquet_joueur_o = []\n",
    "    \n",
    "    i = 0\n",
    "    while i <= len(paquet)-1 :                # distibution carte par carte \n",
    "        paquet_joueur_x.append(paquet[i]) \n",
    "        paquet_joueur_o.append(paquet[i + 1])\n",
    "        i += 2\n",
    "        \n",
    "    # le joueur qui à en sa possession l'as de pique (plus grande carte) commence \n",
    "    if 'as\\u2660' in paquet_joueur_x :\n",
    "        print ( 'Joueur_X, vous avez la plus grande carte AS\\u2660, à vous de commencer la partie, voici la table de jeu' ) \n",
    "        affichage_table_initiale()     \n",
    "        return \"X\"   \n",
    "        \n",
    "    else : \n",
    "        print ( 'Joueur_O, vous avez la plus grande carte AS\\u2660, à vous de commencer la partie, voici la table de jeu' ) \n",
    "        affichage_table_initiale()     \n",
    "        return \"O\"\n",
    "    "
   ]
  },
  {
   "cell_type": "markdown",
   "metadata": {},
   "source": [
    "### Historique des parties et sauvegarde  "
   ]
  },
  {
   "cell_type": "code",
   "execution_count": null,
   "metadata": {},
   "outputs": [],
   "source": [
    "### Historique des parties \n",
    "mon_dict = { 'NOMBRE DE PARTIES ':0,\n",
    "             'JOUEUR X ' : 0 ,\n",
    "             'JOUEUR O ' : 0 }\n",
    "\n",
    "### pour compter le nombres de parties & de victoires \n",
    "def compteur_victoire(i) : \n",
    "    \"\"\" \n",
    "     modification de l'historique des parties \n",
    "    \n",
    "    Argument : \n",
    "    i -- indice dans la table de jeu qui renvoie le symbole (X/O) du joueur ayant reussi l'allignement de son symbole \n",
    "    \"\"\"\n",
    "    \n",
    "    mon_dict['NOMBRE DE PARTIES '] += 1\n",
    "    if table[i] == \"X\" :                     \n",
    "        mon_dict['JOUEUR X '] += 1 \n",
    "    if table[i] == \"O\" : \n",
    "        mon_dict['JOUEUR O '] += 1 \n",
    "    \n",
    "#### FICHIER\n",
    "def afficher_fichier() :\n",
    "    \"\"\" \n",
    "   crée et écrit un fichier (sauvegarder l'historique) à partir du dictionnaire contenant l'historique des parties \n",
    "   affiche l'historique des parties\n",
    "    \"\"\"    \n",
    "    # création et écriture du fichier \n",
    "    with open('data/Historique.txt', 'w') as f : \n",
    "        for k, v in mon_dict.items():  \n",
    "            f.write('%s:%s\\n' % (k, v))\n",
    "\n",
    "    # lecture du fichier \n",
    "    b = input('Partie sauvegardée dans le fichier Historique, voulez vous afficher le nombre de parties jouées et le nombres de victoires de chaque joueur ? oui/non') \n",
    "        \n",
    "    while True : \n",
    "        if b == 'oui':\n",
    "            dossier = Path()\n",
    "            mon_fichier =  Path(r'data/Historique.txt').read_text('utf-8') \n",
    "            print(mon_fichier)  \n",
    "            break\n",
    "            \n",
    "        elif b == 'non' :\n",
    "            break \n",
    "            \n",
    "        else : \n",
    "            b = input( \"veuillez saisir oui/non\" ) "
   ]
  },
  {
   "cell_type": "markdown",
   "metadata": {},
   "source": [
    "### Architecture du jeu "
   ]
  },
  {
   "cell_type": "markdown",
   "metadata": {},
   "source": [
    "#### Réitération de la partie et fin du jeu "
   ]
  },
  {
   "cell_type": "code",
   "execution_count": null,
   "metadata": {},
   "outputs": [],
   "source": [
    "def nouvelle_partie() : \n",
    "    \"\"\" \n",
    "    permet en demandant aux joueurs, d'arreter le jeu ou de lancer une nouvelle partie \n",
    "    \"\"\" \n",
    "    while True :\n",
    "        p = input(\" Une autre partie ? oui/non\")\n",
    "        \n",
    "        if p == 'oui' :\n",
    "            print ( \"Nouvelle partie !\")\n",
    "            \n",
    "            # réinitialisation de la table de jeu pour une nouvelle partie\n",
    "            for i in range (9) : \n",
    "                table.pop(0)            \n",
    "                table.append(\" \") \n",
    "                \n",
    "            # lancer une nouvelle partie \n",
    "            return play()\n",
    "            break\n",
    "            \n",
    "        elif p == \"non\" : \n",
    "            print (\" Fin du jeu \")\n",
    "            break\n",
    "            \n",
    "        else : \n",
    "            p = print( \" veuillez saisir oui/non \") "
   ]
  },
  {
   "cell_type": "markdown",
   "metadata": {},
   "source": [
    "#### Déclaration du vainqueur et fusion des fonctions "
   ]
  },
  {
   "cell_type": "code",
   "execution_count": null,
   "metadata": {},
   "outputs": [],
   "source": [
    "def arret_partie() :\n",
    "    \"\"\" \n",
    "    detecte une partie nulle ou l'allignement d'un symbole \n",
    "    execute les fonctions implémentées précédemment à la fin de chaque partie \n",
    "    \n",
    "    returns : \n",
    "    False -- arrêter le jeu si non renouvellement de la partie en arretant l'exécution de la boucle while de le fonction play() du modele de jeu\n",
    "    \n",
    "    True -- permet de poursuivre une partie si non satisfaction des conditions d'arrêt (réitère l'exécution de la boucle while dans play()) \n",
    "    \"\"\"\n",
    "    \n",
    "## vérifier l'allignement en passant d'une ligne, d'une colonne et d'une diagonale à une autre \n",
    "    valeurs_n = [0,3,6] # pour changer de lignes \n",
    "    valeurs_j = [0,1,2] # pour changer de colonnes \n",
    "  \n",
    "    # allignement en lignes \n",
    "    for n in valeurs_n : \n",
    "        if table[n] == table[n+1] == table[n+2] != \" \" :  # ne pas être égale à (\" \") car dectetion d'un allignement érroné au début de la partie   \n",
    "            print ( \"Le joueur_\" + table[n] + \" a gagné !\") \n",
    "            compteur_victoire(n)\n",
    "            afficher_fichier()\n",
    "            nouvelle_partie()  # retourne alors False si non réitération de la partie à cette étape \n",
    "            return False\n",
    "        \n",
    "    # colonnes\n",
    "    for j in valeurs_j : \n",
    "        if  table[j] == table[j+3] == table[j+6] != \" \" :\n",
    "            print ( \"Le joueur_\" + table[j] + \" a gagné !\")\n",
    "            compteur_victoire(j)\n",
    "            afficher_fichier()\n",
    "            nouvelle_partie()  \n",
    "            return False\n",
    "    \n",
    "    # diagonales \n",
    "    u = 0\n",
    "    t = 8\n",
    "    while u <3 : \n",
    "        if table[u] == table[4] == table[t] != \" \" : \n",
    "            print ( \"Le joueur_\" + table[4] + \" a gagné !\")\n",
    "            compteur_victoire(4) \n",
    "            afficher_fichier()\n",
    "            nouvelle_partie()  \n",
    "            return False \n",
    "        else : \n",
    "            u += 2\n",
    "            t -= 2\n",
    "\n",
    "## si non détéction d'un allignement, vérifier si toutes les cases on été cochées, donc partie nulle \n",
    "    if \" \" not in table : \n",
    "        print(\"Partie nulle\")\n",
    "        mon_dict['NOMBRE DE PARTIES '] += 1  # n'ajoute aucune victoire aux joueurs mais + une partie au compteur \n",
    "        afficher_fichier()\n",
    "        nouvelle_partie()  \n",
    "        return False\n",
    " \n",
    "    else :\n",
    "        return True       "
   ]
  },
  {
   "cell_type": "markdown",
   "metadata": {},
   "source": [
    "### Fonction du jeu"
   ]
  },
  {
   "cell_type": "code",
   "execution_count": null,
   "metadata": {},
   "outputs": [],
   "source": [
    "def play():\n",
    "    \"\"\"\n",
    "    Lance la partie, permet de changer de joueur à chaque case cochée et déroule le jeu en excutant les fonctions implentées précédemment \n",
    "    \"\"\"\n",
    "    # demander au premier joueur de débuter la partie\n",
    "    tour =  tour_de_jouer() \n",
    "    \n",
    "    # Indiquer les cases disponibles à chaque étape de la partie \n",
    "    indice = []\n",
    "    for i in range (9) : \n",
    "        indice.append(False)\n",
    "    \n",
    "    # exécute le jeu \n",
    "    jeu = True\n",
    "    \n",
    "    while jeu :\n",
    "        i = 0 # permet d'accéder à la boucle while  \n",
    "        try : # gestion des erreurs de saisie\n",
    "            \n",
    "            while i < 1 or i > 9 : # gérer la saisie des chiffres entre 1 et 9\n",
    "                # indication des cases disponibles \n",
    "                print(\"Vous pouvez choisir les cases suivantes :\")\n",
    "                for m in range (9) : \n",
    "                    if indice[m] == False : \n",
    "                        print( str(m+1) + \" | \", end = \"\" ) \n",
    "\n",
    "                i = int(input(\"joueur_\" + tour + \", à vous de cocher\" )) \n",
    "                \n",
    "                # rendre indisponible une case \n",
    "                if i > 0 and i<10 : \n",
    "                    indice[i-1] = True \n",
    "            \n",
    "            # vérifier si un case est déja cochée \n",
    "            while not \" \" in table[i-1] : \n",
    "                print (\"Case déja cochée\")\n",
    "                i = 0 # permet de refaire une saisie\n",
    "                while i < 1 or i > 9: \n",
    "                    i = int(input(\"Choisir une autre case\"))\n",
    "                indice[i-1] = True \n",
    "\n",
    "            # cocher X ou O et afficher la table \n",
    "            table[i-1] = tour\n",
    "            affichage_table()\n",
    "\n",
    "            # changement de joueur \n",
    "            if tour == \"X\":\n",
    "                tour = \"O\"\n",
    "            else :\n",
    "                tour = \"X\" \n",
    "\n",
    "            # vérifier si partie terminée/arrêt du jeu \n",
    "            jeu = arret_partie()\n",
    "\n",
    "\n",
    "        except  ValueError:\n",
    "            print (\"Veuiller saisir un entier !\") "
   ]
  },
  {
   "cell_type": "code",
   "execution_count": null,
   "metadata": {},
   "outputs": [],
   "source": [
    "play()"
   ]
  }
 ],
 "metadata": {
  "kernelspec": {
   "display_name": "Python 3 (ipykernel)",
   "language": "python",
   "name": "python3"
  },
  "language_info": {
   "codemirror_mode": {
    "name": "ipython",
    "version": 3
   },
   "file_extension": ".py",
   "mimetype": "text/x-python",
   "name": "python",
   "nbconvert_exporter": "python",
   "pygments_lexer": "ipython3",
   "version": "3.9.7"
  }
 },
 "nbformat": 4,
 "nbformat_minor": 4
}
